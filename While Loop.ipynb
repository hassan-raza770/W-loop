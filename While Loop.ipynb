{
 "cells": [
  {
   "cell_type": "code",
   "execution_count": 1,
   "id": "78a4bedd",
   "metadata": {},
   "outputs": [
    {
     "name": "stdout",
     "output_type": "stream",
     "text": [
      "the sum is:  210\n"
     ]
    }
   ],
   "source": [
    "#program to add natural numbers\n",
    "num= 20 #ending point\n",
    "sum =0\n",
    "i= 1 #starting point\n",
    "while i<= num:\n",
    "    sum= sum+i\n",
    "    i = i +1 #increment\n",
    "    \n",
    "print(\"the sum is: \", sum)"
   ]
  },
  {
   "cell_type": "code",
   "execution_count": 1,
   "id": "c9a30ff2",
   "metadata": {
    "scrolled": true
   },
   "outputs": [
    {
     "name": "stdout",
     "output_type": "stream",
     "text": [
      "hassan\n",
      "hassan\n",
      "hassan\n",
      "hassan\n",
      "hassan\n",
      "hassan\n",
      "hassan\n",
      "hassan\n",
      "hassan\n",
      "hassan\n",
      "hassan\n"
     ]
    }
   ],
   "source": [
    "#print a number/character multiple times\n",
    "count=0\n",
    "while (count <=10):\n",
    "    print('hassan')\n",
    "    count= count+1"
   ]
  },
  {
   "cell_type": "code",
   "execution_count": 2,
   "id": "a2f19a1f",
   "metadata": {},
   "outputs": [
    {
     "name": "stdout",
     "output_type": "stream",
     "text": [
      "letters:  m\n",
      "letters:  y\n",
      "letters:  b\n",
      "letters:  k\n",
      "letters:  i\n",
      "letters:  s\n",
      "letters:  g\n",
      "letters:  d\n"
     ]
    }
   ],
   "source": [
    "#continue\n",
    "a='mybookisgood'\n",
    "i=0\n",
    "while i < len(a):\n",
    "    if a[i] == \"o\":\n",
    "        i=i+1\n",
    "        continue\n",
    "    print(\"letters: \",a[i])\n",
    "    i=i+1"
   ]
  },
  {
   "cell_type": "code",
   "execution_count": 3,
   "id": "bb953c08",
   "metadata": {},
   "outputs": [
    {
     "name": "stdout",
     "output_type": "stream",
     "text": [
      "letters:  m\n",
      "letters:  y\n",
      "letters:  b\n"
     ]
    }
   ],
   "source": [
    "#break\n",
    "a='mybookisgood'\n",
    "i=0\n",
    "while i < len(a):\n",
    "    if a[i] == \"o\":\n",
    "        i=i+1\n",
    "        break\n",
    "    print(\"letters: \",a[i])\n",
    "    i=i+1"
   ]
  },
  {
   "cell_type": "code",
   "execution_count": null,
   "id": "688a08e0",
   "metadata": {},
   "outputs": [],
   "source": []
  }
 ],
 "metadata": {
  "kernelspec": {
   "display_name": "Python 3 (ipykernel)",
   "language": "python",
   "name": "python3"
  },
  "language_info": {
   "codemirror_mode": {
    "name": "ipython",
    "version": 3
   },
   "file_extension": ".py",
   "mimetype": "text/x-python",
   "name": "python",
   "nbconvert_exporter": "python",
   "pygments_lexer": "ipython3",
   "version": "3.8.9"
  }
 },
 "nbformat": 4,
 "nbformat_minor": 5
}
